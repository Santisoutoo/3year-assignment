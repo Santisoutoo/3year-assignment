{
 "cells": [
  {
   "cell_type": "markdown",
   "metadata": {},
   "source": [
    "# Task 2\n",
    "\n",
    "**Detailed Instructions:**\n",
    "``Image Feature Extraction``\n",
    "\n",
    "* Load the provided image dataset.\n",
    "    * Extract visual features from each image using techniques such as:\n",
    "    * RGB.\n",
    "    * Color histograms.\n",
    "    * Texture analysis.\n",
    "    * Deep learning feature extractors (e.g., using pre-trained CNN models\n",
    "    like VGG16, ResNet, etc.)\n",
    "Clustering Implementation.\n",
    "\n"
   ]
  },
  {
   "cell_type": "code",
   "execution_count": null,
   "metadata": {
    "vscode": {
     "languageId": "plaintext"
    }
   },
   "outputs": [],
   "source": []
  },
  {
   "cell_type": "markdown",
   "metadata": {},
   "source": [
    "Implement the following clustering algorithms and compare their performance:\n",
    "* K-means clustering.\n",
    "* DBSCAN (Density-Based Spatial Clustering).\n",
    "* Optional: Hierarchical clustering, Spectral clustering.\n",
    "Parameter Tuning and Evaluation.\n",
    "* For K-means: Experiment with different values of K (the number of room\n",
    "types).\n",
    "* For DBSCAN: Adjust epsilon and min_samples parameters."
   ]
  }
 ],
 "metadata": {
  "language_info": {
   "name": "python"
  }
 },
 "nbformat": 4,
 "nbformat_minor": 2
}
