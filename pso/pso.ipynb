{
 "cells": [
  {
   "cell_type": "markdown",
   "metadata": {},
   "source": [
    "# PSO Implementation"
   ]
  },
  {
   "cell_type": "markdown",
   "metadata": {},
   "source": [
    "---\n"
   ]
  },
  {
   "cell_type": "markdown",
   "metadata": {},
   "source": [
    "### 1. Import Libraries"
   ]
  },
  {
   "cell_type": "markdown",
   "metadata": {},
   "source": [
    "---"
   ]
  },
  {
   "cell_type": "code",
   "execution_count": 10,
   "metadata": {},
   "outputs": [],
   "source": [
    "import numpy as np\n",
    "import matplotlib.pyplot as plt\n",
    "from matplotlib.animation import FuncAnimation\n",
    "from pso_class import ParticleSwarmOptimization  \n"
   ]
  },
  {
   "cell_type": "markdown",
   "metadata": {},
   "source": [
    "---"
   ]
  },
  {
   "cell_type": "markdown",
   "metadata": {},
   "source": [
    "### 2. Define the Objective Function"
   ]
  },
  {
   "cell_type": "code",
   "execution_count": 11,
   "metadata": {},
   "outputs": [],
   "source": [
    "def f(x, y):\n",
    "    \"\"\"\n",
    "    Objective function with multiple local minima.\n",
    "    \n",
    "    This function combines quadratic terms and sinusoidal components to create\n",
    "    a complex landscape with multiple local minima and one global minimum.\n",
    "    \n",
    "    Parameters:\n",
    "    -----------\n",
    "    x, y : array-like\n",
    "        Input coordinates\n",
    "        \n",
    "    Returns:\n",
    "    --------\n",
    "    array-like\n",
    "        Function values at the given coordinates\n",
    "    \"\"\"\n",
    "    return (x - 3.14) ** 2 + (y - 2.72) ** 2 + np.sin(3 * x + 1.41) + np.sin(4 * y - 1.73)\n"
   ]
  },
  {
   "cell_type": "markdown",
   "metadata": {},
   "source": [
    "---"
   ]
  },
  {
   "cell_type": "markdown",
   "metadata": {},
   "source": [
    "### 3. Compute and visualize the function landscape "
   ]
  },
  {
   "cell_type": "code",
   "execution_count": 12,
   "metadata": {},
   "outputs": [
    {
     "name": "stdout",
     "output_type": "stream",
     "text": [
      "1. Global Minimum Calculation\n",
      "   Global minimum found at x=3.183183, y=3.128128\n",
      "   Minimum value: f(x,y)=-1.808306\n"
     ]
    }
   ],
   "source": [
    "print(\"1. Global Minimum Calculation\")\n",
    "# Create a grid of points covering the search space [0,5]x[0,5]\n",
    "x_vals = np.linspace(0, 5, 1000)\n",
    "y_vals = np.linspace(0, 5, 1000)\n",
    "x_grid, y_grid = np.meshgrid(x_vals, y_vals)\n",
    "z_grid = f(x_grid, y_grid)\n",
    "\n",
    "# Find the global minimum\n",
    "min_idx = np.argmin(z_grid)\n",
    "y_min, x_min = np.unravel_index(min_idx, z_grid.shape)\n",
    "x_min, y_min = x_vals[x_min], y_vals[y_min]\n",
    "min_value = f(x_min, y_min)\n",
    "\n",
    "print(f\"   Global minimum found at x={x_min:.6f}, y={y_min:.6f}\")\n",
    "print(f\"   Minimum value: f(x,y)={min_value:.6f}\")"
   ]
  },
  {
   "cell_type": "markdown",
   "metadata": {},
   "source": [
    "---"
   ]
  },
  {
   "cell_type": "markdown",
   "metadata": {},
   "source": [
    "### 4. Initizalide the PSO Algorithm"
   ]
  },
  {
   "cell_type": "code",
   "execution_count": 13,
   "metadata": {},
   "outputs": [
    {
     "name": "stdout",
     "output_type": "stream",
     "text": [
      "\n",
      "2. PSO Initialization and Execution\n",
      "   Number of particles: 20\n",
      "   Parameters: w=0.8, c1=0.1, c2=0.1\n",
      "   Search space bounds: (0, 5)\n",
      "   Number of iterations: 50\n",
      "\n",
      "3. Running Optimization\n"
     ]
    }
   ],
   "source": [
    "print(\"\\n2. PSO Initialization and Execution\")\n",
    "# Define PSO parameters\n",
    "n_particles = 20  # Number of particles in the swarm\n",
    "w = 0.8           # Inertia weight\n",
    "c1 = c2 = 0.1     # Cognitive and social parameters\n",
    "bounds = (0, 5)   # Search space bounds\n",
    "seed = 100        # Random seed for reproducibility\n",
    "iterations = 50   # Number of iterations to run\n",
    "\n",
    "print(f\"   Number of particles: {n_particles}\")\n",
    "print(f\"   Parameters: w={w}, c1={c1}, c2={c2}\")\n",
    "print(f\"   Search space bounds: {bounds}\")\n",
    "print(f\"   Number of iterations: {iterations}\")\n",
    "\n",
    "# Create PSO instance\n",
    "pso = ParticleSwarmOptimization(\n",
    "    objective_function=f,\n",
    "    n_particles=n_particles,\n",
    "    dimensions=2,\n",
    "    bounds=bounds,\n",
    "    w=w,\n",
    "    c1=c1,\n",
    "    c2=c2,\n",
    "    seed=seed\n",
    ")\n",
    "\n",
    "# Run the optimization\n",
    "print(\"\\n3. Running Optimization\")\n",
    "gbest, gbest_obj = pso.optimize(iterations)"
   ]
  },
  {
   "cell_type": "markdown",
   "metadata": {},
   "source": [
    "---"
   ]
  },
  {
   "cell_type": "markdown",
   "metadata": {},
   "source": [
    "### 5. Display results"
   ]
  },
  {
   "cell_type": "code",
   "execution_count": 14,
   "metadata": {},
   "outputs": [
    {
     "name": "stdout",
     "output_type": "stream",
     "text": [
      "\n",
      "4. Results:\n",
      "   PSO found best solution at:\n",
      "      x = 3.185418, y = 3.129725\n",
      "      f(x,y) = -1.808352\n",
      "\n",
      "   True global minimum:\n",
      "      x = 3.183183, y = 3.128128\n",
      "      f(x,y) = -1.808306\n",
      "\n",
      "   Error Analysis:\n",
      "      Distance error: 0.002746\n",
      "      Function value error: 0.000046\n"
     ]
    }
   ],
   "source": [
    "print(\"\\n4. Results:\")\n",
    "print(f\"   PSO found best solution at:\")\n",
    "print(f\"      x = {gbest[0]:.6f}, y = {gbest[1]:.6f}\")\n",
    "print(f\"      f(x,y) = {gbest_obj:.6f}\")\n",
    "print(f\"\\n   True global minimum:\")\n",
    "print(f\"      x = {x_min:.6f}, y = {y_min:.6f}\")\n",
    "print(f\"      f(x,y) = {min_value:.6f}\")\n",
    "\n",
    "# Calculate the error\n",
    "distance_error = np.sqrt((gbest[0] - x_min)**2 + (gbest[1] - y_min)**2)\n",
    "value_error = abs(gbest_obj - min_value)\n",
    "print(f\"\\n   Error Analysis:\")\n",
    "print(f\"      Distance error: {distance_error:.6f}\")\n",
    "print(f\"      Function value error: {value_error:.6f}\")"
   ]
  },
  {
   "cell_type": "markdown",
   "metadata": {},
   "source": [
    "---"
   ]
  },
  {
   "cell_type": "markdown",
   "metadata": {},
   "source": [
    "### 6. Convergence Analysis"
   ]
  },
  {
   "cell_type": "code",
   "execution_count": 15,
   "metadata": {},
   "outputs": [
    {
     "name": "stdout",
     "output_type": "stream",
     "text": [
      "\n",
      "5. Convergence Analysis\n",
      "   Objective value by iteration:\n",
      "      Iteration 0: 0.940058\n",
      "      Iteration 4: -0.219024\n",
      "      Iteration 9: -1.764420\n",
      "      Iteration 19: -1.808225\n",
      "      Iteration 49: -1.808352\n",
      "\n",
      "   Total improvement: 2.748410 (292.37%)\n",
      "   Convergence status: Solution has converged (minimal improvement in last 10 iterations)\n"
     ]
    }
   ],
   "source": [
    "print(\"\\n5. Convergence Analysis\")\n",
    "history = pso.get_history()\n",
    "gbest_values = history['gbest_obj']\n",
    "\n",
    "# Print values at key iterations\n",
    "print(\"   Objective value by iteration:\")\n",
    "iterations_to_show = [0, 4, 9, 19, 49] if len(gbest_values) >= 50 else list(range(0, len(gbest_values), max(1, len(gbest_values)//5)))\n",
    "for i in iterations_to_show:\n",
    "    if i < len(gbest_values):\n",
    "        print(f\"      Iteration {i}: {gbest_values[i]:.6f}\")\n",
    "\n",
    "# Calculate improvement\n",
    "if len(gbest_values) > 1:\n",
    "    total_improvement = gbest_values[0] - gbest_values[-1]\n",
    "    improvement_percent = (total_improvement / gbest_values[0]) * 100\n",
    "    print(f\"\\n   Total improvement: {total_improvement:.6f} ({improvement_percent:.2f}%)\")\n",
    "    \n",
    "    # Check if converged\n",
    "    if len(gbest_values) >= 10:\n",
    "        recent_improvement = gbest_values[-10] - gbest_values[-1]\n",
    "        if recent_improvement < 1e-6:\n",
    "            print(\"   Convergence status: Solution has converged (minimal improvement in last 10 iterations)\")\n",
    "        else:\n",
    "            print(\"   Convergence status: Solution still improving\")\n",
    "    else:\n",
    "        print(\"   Convergence status: Not enough iterations to determine\")"
   ]
  },
  {
   "cell_type": "markdown",
   "metadata": {},
   "source": [
    "---"
   ]
  },
  {
   "cell_type": "markdown",
   "metadata": {},
   "source": [
    "# PSO Algorithm Results Analysis\n",
    "\n",
    "## Comparison of Results\n",
    "\n",
    "| Metric | PSO Solution | True Global Minimum | Difference |\n",
    "|--------|-------------|---------------------|------------|\n",
    "| x-coordinate | 3.185418 | 3.183183 | 0.002235 |\n",
    "| y-coordinate | 3.129725 | 3.128128 | 0.001597 |\n",
    "| Function value | -1.808352 | -1.808306 | 0.000046 |\n",
    "| Euclidean distance | - | - | 0.002746 |\n",
    "\n",
    "## Convergence Analysis\n",
    "\n",
    "| Iteration | Objective Value | Improvement from Previous |\n",
    "|-----------|----------------|--------------------------|\n",
    "| 0 | 0.940058 | - |\n",
    "| 4 | -0.219024 | 1.159082 |\n",
    "| 9 | -1.764420 | 1.545396 |\n",
    "| 19 | -1.808225 | 0.043805 |\n",
    "| 49 | -1.808352 | 0.000127 |\n",
    "\n",
    "Total improvement: 2.748410 (292.37%)\n",
    "\n",
    "## Conclusions\n",
    "\n",
    "1. **Accuracy**: The PSO algorithm successfully found the global minimum of the non-linear function with high precision. The difference between the PSO solution and the true global minimum is negligible (function value error of only 0.000046).\n",
    "\n",
    "2. **Convergence**: The algorithm demonstrated excellent convergence properties:\n",
    "   - Rapid improvement in early iterations (particularly between iterations 0-9)\n",
    "   - Fine-tuning in middle iterations (9-19)\n",
    "   - Minimal improvement in later iterations, indicating proper convergence\n",
    "\n",
    "3. **Efficiency**: The algorithm converged to a near-optimal solution within just 20 iterations, with only minimal improvements thereafter.\n",
    "\n",
    "4. **Stability**: The solution stabilized in the later iterations, confirming that the algorithm successfully settled at the global minimum rather than oscillating between local minima.\n",
    "\n",
    "5. **Parameter Effectiveness**: The chosen parameters (w=0.8, c1=c2=0.1, n_particles=20) proved very effective for this particular optimization problem, balancing exploration and exploitation."
   ]
  }
 ],
 "metadata": {
  "kernelspec": {
   "display_name": "f1_strat_manager",
   "language": "python",
   "name": "python3"
  },
  "language_info": {
   "codemirror_mode": {
    "name": "ipython",
    "version": 3
   },
   "file_extension": ".py",
   "mimetype": "text/x-python",
   "name": "python",
   "nbconvert_exporter": "python",
   "pygments_lexer": "ipython3",
   "version": "3.10.16"
  }
 },
 "nbformat": 4,
 "nbformat_minor": 2
}
