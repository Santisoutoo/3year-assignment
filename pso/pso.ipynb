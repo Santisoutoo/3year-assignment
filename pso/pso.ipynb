{
 "cells": [
  {
   "cell_type": "markdown",
   "metadata": {},
   "source": [
    "# PSO Implementation"
   ]
  },
  {
   "cell_type": "markdown",
   "metadata": {},
   "source": [
    "---\n"
   ]
  },
  {
   "cell_type": "markdown",
   "metadata": {},
   "source": [
    "### 1. Import Libraries"
   ]
  },
  {
   "cell_type": "markdown",
   "metadata": {},
   "source": [
    "---"
   ]
  },
  {
   "cell_type": "code",
   "execution_count": 1,
   "metadata": {},
   "outputs": [],
   "source": [
    "import numpy as np\n",
    "from pso_class import ParticleSwarmOptimization  "
   ]
  },
  {
   "cell_type": "markdown",
   "metadata": {},
   "source": [
    "---"
   ]
  },
  {
   "cell_type": "markdown",
   "metadata": {},
   "source": [
    "### 2. Define the Objective Function"
   ]
  },
  {
   "cell_type": "code",
   "execution_count": 2,
   "metadata": {},
   "outputs": [],
   "source": [
    "def f(x, y):\n",
    "    \"\"\"\n",
    "    Objective function with multiple local minima.\n",
    "    \n",
    "    This function combines quadratic terms and sinusoidal components to create\n",
    "    a complex landscape with multiple local minima and one global minimum.\n",
    "    \n",
    "    Parameters:\n",
    "    -----------\n",
    "    x, y : array-like\n",
    "        Input coordinates\n",
    "        \n",
    "    Returns:\n",
    "    --------\n",
    "    array-like\n",
    "        Function values at the given coordinates\n",
    "    \"\"\"\n",
    "    return (x - 3.14) ** 2 + (y - 2.72) ** 2 + np.sin(3 * x + 1.41) + np.sin(4 * y - 1.73)\n"
   ]
  },
  {
   "cell_type": "markdown",
   "metadata": {},
   "source": [
    "---"
   ]
  },
  {
   "cell_type": "markdown",
   "metadata": {},
   "source": [
    "### 3. Compute and visualize the function landscape "
   ]
  },
  {
   "cell_type": "code",
   "execution_count": 3,
   "metadata": {},
   "outputs": [
    {
     "name": "stdout",
     "output_type": "stream",
     "text": [
      "1. Global Minimum Calculation\n",
      "   Global minimum found at x=3.183183, y=3.128128\n",
      "   Minimum value: f(x,y)=-1.808306\n"
     ]
    }
   ],
   "source": [
    "print(\"1. Global Minimum Calculation\")\n",
    "# Create 1D arrays for x and y values between 0 and 5\n",
    "x_vals = np.linspace(0, 5, 1000)\n",
    "y_vals = np.linspace(0, 5, 1000)\n",
    "\n",
    "# Create a 2D grid of x and y values\n",
    "x_grid, y_grid = np.meshgrid(x_vals, y_vals)\n",
    "\n",
    "# Compute the function values for each (x, y) pair on the grid\n",
    "z_grid = f(x_grid, y_grid)\n",
    "\n",
    "# Find the global minimum value in the grid\n",
    "min_idx = np.argmin(z_grid)\n",
    "y_min, x_min = np.unravel_index(min_idx, z_grid.shape)\n",
    "\n",
    "# Convert grid indices back to x and y coordinates\n",
    "x_min, y_min = x_vals[x_min], y_vals[y_min]\n",
    "\n",
    "# Compute the minimum function value at the computed coordinates\n",
    "min_value = f(x_min, y_min)\n",
    "\n",
    "\n",
    "print(f\"   Global minimum found at x={x_min:.6f}, y={y_min:.6f}\")\n",
    "print(f\"   Minimum value: f(x,y)={min_value:.6f}\")"
   ]
  },
  {
   "cell_type": "markdown",
   "metadata": {},
   "source": [
    "---"
   ]
  },
  {
   "cell_type": "markdown",
   "metadata": {},
   "source": [
    "### 4. Initizalide the PSO Algorithm"
   ]
  },
  {
   "cell_type": "code",
   "execution_count": 4,
   "metadata": {},
   "outputs": [
    {
     "name": "stdout",
     "output_type": "stream",
     "text": [
      "\n",
      "2. PSO Initialization and Execution\n",
      "   Number of particles: 20\n",
      "   Parameters: w=0.8, c1=0.1, c2=0.1\n",
      "   Search space bounds: (0, 5)\n",
      "   Number of iterations: 50\n"
     ]
    }
   ],
   "source": [
    "n_particles =     20        # Number of particles in the swarm\n",
    "w =               0.8       # Inertia weight\n",
    "c1 = c2 =         0.1       # Cognitive and social parameters\n",
    "bounds =          (0, 5)    # Search space bounds\n",
    "seed =            100       # Random seed for reproducibility\n",
    "iterations =      50        # Number of iterations to run\n",
    "\n",
    "print(\"\\n2. PSO Initialization and Execution\")\n",
    "print(f\"   Number of particles: {n_particles}\")\n",
    "print(f\"   Parameters: w={w}, c1={c1}, c2={c2}\")\n",
    "print(f\"   Search space bounds: {bounds}\")\n",
    "print(f\"   Number of iterations: {iterations}\")"
   ]
  },
  {
   "cell_type": "code",
   "execution_count": 5,
   "metadata": {},
   "outputs": [],
   "source": [
    "# Initialize the Particle Swarm Optimization (PSO) algorithm with the specified parameters.\n",
    "pso = ParticleSwarmOptimization(\n",
    "    objective_function = f,    # Function to optimize\n",
    "    n_particles = n_particles, # Number of particles in the swarm\n",
    "    dimensions = 2,            # Working in 2D\n",
    "    bounds = bounds,           # Boundaries for the search space\n",
    "    w = w,                     # Inertia weight\n",
    "    c1 = c1,                   # Cognitive (self) coefficient\n",
    "    c2 = c2,                   # Social (neighbor) coefficient\n",
    "    seed = seed                # Seed for reproducibility\n",
    ")\n",
    "\n",
    "# Run the optimizer for a given number of iterations.\n",
    "# This returns the best position (gbest) and its corresponding objective function value (gbest_obj).\n",
    "gbest, gbest_obj = pso.optimize(iterations)\n"
   ]
  },
  {
   "cell_type": "markdown",
   "metadata": {},
   "source": [
    "---"
   ]
  },
  {
   "cell_type": "markdown",
   "metadata": {},
   "source": [
    "### 5. Display results"
   ]
  },
  {
   "cell_type": "code",
   "execution_count": 6,
   "metadata": {},
   "outputs": [
    {
     "name": "stdout",
     "output_type": "stream",
     "text": [
      "\n",
      "4. Results:\n",
      "   PSO found best solution at:\n",
      "      x = 3.185418, y = 3.129725\n",
      "      f(x,y) = -1.808352\n",
      "\n",
      "   True global minimum:\n",
      "      x = 3.183183, y = 3.128128\n",
      "      f(x,y) = -1.808306\n",
      "\n",
      "   Error Analysis:\n",
      "      Distance error: 0.002746\n",
      "      Function value error: 0.000046\n"
     ]
    }
   ],
   "source": [
    "print(\"\\n4. Results:\")\n",
    "print(f\"   PSO found best solution at:\")\n",
    "print(f\"      x = {gbest[0]:.6f}, y = {gbest[1]:.6f}\")\n",
    "print(f\"      f(x,y) = {gbest_obj:.6f}\")\n",
    "print(f\"\\n   True global minimum:\")\n",
    "print(f\"      x = {x_min:.6f}, y = {y_min:.6f}\")\n",
    "print(f\"      f(x,y) = {min_value:.6f}\")\n",
    "# Calculate the Euclidean distance error between the best found position (gbest) and the known minimum point.\n",
    "#\n",
    "# Here, 'gbest' is assumed to be a list or array where:\n",
    "#   - gbest[0] is the x-coordinate of the best solution found by the PSO algorithm.\n",
    "#   - gbest[1] is the y-coordinate of the best solution found by the PSO algorithm.\n",
    "#\n",
    "# 'x_min' and 'y_min' represent the x and y coordinates of the actual (or expected) minimum point.\n",
    "distance_error = np.sqrt((gbest[0] - x_min)**2 + (gbest[1] - y_min)**2)\n",
    "value_error = abs(gbest_obj - min_value)\n",
    "print(f\"\\n   Error Analysis:\")\n",
    "print(f\"      Distance error: {distance_error:.6f}\")\n",
    "print(f\"      Function value error: {value_error:.6f}\")"
   ]
  },
  {
   "cell_type": "markdown",
   "metadata": {},
   "source": [
    "---"
   ]
  },
  {
   "cell_type": "markdown",
   "metadata": {},
   "source": [
    "### 6. Convergence Analysis"
   ]
  },
  {
   "cell_type": "code",
   "execution_count": 7,
   "metadata": {},
   "outputs": [
    {
     "name": "stdout",
     "output_type": "stream",
     "text": [
      "\n",
      "5. Convergence Analysis\n",
      "   Objective value by iteration:\n",
      "      Iteration 0: 0.940058\n",
      "      Iteration 4: -0.219024\n",
      "      Iteration 9: -1.764420\n",
      "      Iteration 19: -1.808225\n",
      "      Iteration 49: -1.808352\n",
      "\n",
      "   Total improvement: 2.748410 (292.37%)\n",
      "   Convergence status: Solution has converged (minimal improvement in last 10 iterations)\n"
     ]
    }
   ],
   "source": [
    "# Print a header to indicate the beginning of the convergence analysis.\n",
    "print(\"\\n5. Convergence Analysis\")  \n",
    "\n",
    "# Retrieve the history of the PSO algorithm's execution.\n",
    "# The method pso.get_history() is expected to return a dictionary containing various metrics\n",
    "# recorded at each iteration of the optimization process.\n",
    "history = pso.get_history()  \n",
    "\n",
    "# Extract the list of global best objective values from the history.\n",
    "# The key 'gbest_obj' contains the best objective (fitness) value found at every iteration.\n",
    "gbest_values = history['gbest_obj']  \n",
    "\n",
    "# Print a message to indicate that the following output will list the objective values\n",
    "# obtained at selected iterations.\n",
    "print(\"   Objective value by iteration:\")\n",
    "\n",
    "# Determine which iterations to display.\n",
    "# If there are at least 50 iterations, we choose specific iterations: 0, 4, 9, 19, and 49.\n",
    "# Otherwise, generate a list of indices spread uniformly through the available iterations.\n",
    "iterations_to_show = (\n",
    "    [0, 4, 9, 19, 49] \n",
    "    if len(gbest_values) >= 50 \n",
    "    else list(range(0, len(gbest_values), max(1, len(gbest_values)//5)))\n",
    ")\n",
    "\n",
    "# Loop through the selected iteration indices.\n",
    "for i in iterations_to_show:\n",
    "    # Safety check: ensure that the iteration index is within the range of available values.\n",
    "    if i < len(gbest_values):\n",
    "        # Print the iteration number and the corresponding objective value.\n",
    "        # The value is formatted to six decimal places for clarity.\n",
    "        print(f\"      Iteration {i}: {gbest_values[i]:.6f}\")\n",
    "\n",
    "# Check if there is more than one objective value available in the history to proceed with improvement analysis.\n",
    "if len(gbest_values) > 1:\n",
    "    # Calculate the total improvement: the difference between the objective value at the first iteration\n",
    "    # and the final objective value (last iteration).\n",
    "    total_improvement = gbest_values[0] - gbest_values[-1]\n",
    "    \n",
    "    # Compute the percentage improvement relative to the initial objective value.\n",
    "    improvement_percent = (total_improvement / gbest_values[0]) * 100\n",
    "    \n",
    "    # Print the total improvement and the corresponding percentage.\n",
    "    print(f\"\\n   Total improvement: {total_improvement:.6f} ({improvement_percent:.2f}%)\")\n",
    "    \n",
    "    # Now, check if the algorithm has converged based on recent improvements.\n",
    "    # Only proceed if there are at least 10 iterations to evaluate recent changes.\n",
    "    if len(gbest_values) >= 10:\n",
    "        # Calculate the improvement over the last 10 iterations.\n",
    "        # This is the difference between the objective value from 10 iterations ago and the final value.\n",
    "        recent_improvement = gbest_values[-10] - gbest_values[-1]\n",
    "        \n",
    "        # Determine if the improvement is minimal:\n",
    "        # If the improvement is less than 1e-6, we assume that the solution has converged.\n",
    "        if recent_improvement < 1e-6:\n",
    "            print(\"   Convergence status: Solution has converged (minimal improvement in last 10 iterations)\")\n",
    "        else:\n",
    "            # Otherwise, if there's still a meaningful improvement, indicate that the solution is still improving.\n",
    "            print(\"   Convergence status: Solution still improving\")\n",
    "    else:\n",
    "        # If there are not enough iterations to evaluate the recent improvement (fewer than 10 iterations),\n",
    "        # print a message indicating that the convergence status cannot be determined.\n",
    "        print(\"   Convergence status: Not enough iterations to determine\")\n"
   ]
  },
  {
   "cell_type": "markdown",
   "metadata": {},
   "source": [
    "---"
   ]
  },
  {
   "cell_type": "markdown",
   "metadata": {},
   "source": [
    "# PSO Algorithm Results Analysis\n",
    "\n",
    "## Comparison of Results\n",
    "\n",
    "| Metric | PSO Solution | True Global Minimum | Difference |\n",
    "|--------|-------------|---------------------|------------|\n",
    "| x-coordinate | 3.185418 | 3.183183 | 0.002235 |\n",
    "| y-coordinate | 3.129725 | 3.128128 | 0.001597 |\n",
    "| Function value | -1.808352 | -1.808306 | 0.000046 |\n",
    "| Euclidean distance | - | - | 0.002746 |\n",
    "\n",
    "## Convergence Analysis\n",
    "\n",
    "| Iteration | Objective Value | Improvement from Previous |\n",
    "|-----------|----------------|--------------------------|\n",
    "| 0 | 0.940058 | - |\n",
    "| 4 | -0.219024 | 1.159082 |\n",
    "| 9 | -1.764420 | 1.545396 |\n",
    "| 19 | -1.808225 | 0.043805 |\n",
    "| 49 | -1.808352 | 0.000127 |\n",
    "\n",
    "Total improvement: 2.748410 (292.37%)\n",
    "\n",
    "## Conclusions\n",
    "\n",
    "1. **Accuracy**: The PSO algorithm successfully found the global minimum of the non-linear function with high precision. The difference between the PSO solution and the true global minimum is negligible (function value error of only 0.000046).\n",
    "\n",
    "2. **Convergence**: The algorithm demonstrated excellent convergence properties:\n",
    "   - Rapid improvement in early iterations (particularly between iterations 0-9)\n",
    "   - Fine-tuning in middle iterations (9-19)\n",
    "   - Minimal improvement in later iterations, indicating proper convergence\n",
    "\n",
    "3. **Efficiency**: The algorithm converged to a near-optimal solution within just 20 iterations, with only minimal improvements thereafter.\n",
    "\n",
    "4. **Stability**: The solution stabilized in the later iterations, confirming that the algorithm successfully settled at the global minimum rather than oscillating between local minima.\n",
    "\n",
    "5. **Parameter Effectiveness**: The chosen parameters (w=0.8, c1=c2=0.1, n_particles=20) proved very effective for this particular optimization problem, balancing exploration and exploitation."
   ]
  }
 ],
 "metadata": {
  "kernelspec": {
   "display_name": "f1_strat_manager",
   "language": "python",
   "name": "python3"
  },
  "language_info": {
   "codemirror_mode": {
    "name": "ipython",
    "version": 3
   },
   "file_extension": ".py",
   "mimetype": "text/x-python",
   "name": "python",
   "nbconvert_exporter": "python",
   "pygments_lexer": "ipython3",
   "version": "3.10.16"
  }
 },
 "nbformat": 4,
 "nbformat_minor": 2
}
