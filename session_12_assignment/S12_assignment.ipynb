{
 "cells": [
  {
   "cell_type": "markdown",
   "id": "0e02473e",
   "metadata": {},
   "source": [
    "# Session 12 Assignment \n",
    "\n",
    "## Víctor Vega Sobral\n",
    "## Santiago Souto Ortega"
   ]
  },
  {
   "cell_type": "markdown",
   "id": "16bd027d",
   "metadata": {},
   "source": [
    "---"
   ]
  }
 ],
 "metadata": {
  "language_info": {
   "name": "python"
  }
 },
 "nbformat": 4,
 "nbformat_minor": 5
}
