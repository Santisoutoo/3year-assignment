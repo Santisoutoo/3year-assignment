{
 "cells": [
  {
   "cell_type": "markdown",
   "id": "0e02473e",
   "metadata": {},
   "source": [
    "# Session 12 Assignment \n",
    "\n",
    "## Víctor Vega Sobral\n",
    "## Santiago Souto Ortega"
   ]
  },
  {
   "cell_type": "markdown",
   "id": "16bd027d",
   "metadata": {},
   "source": [
    "---"
   ]
  },
  {
   "cell_type": "markdown",
   "id": "6af95295",
   "metadata": {},
   "source": [
    "## Implementing Von Neumann Neighborhood for PSO"
   ]
  }
 ],
 "metadata": {
  "kernelspec": {
   "display_name": "f1_strat_manager",
   "language": "python",
   "name": "python3"
  },
  "language_info": {
   "name": "python",
   "version": "3.10.16"
  }
 },
 "nbformat": 4,
 "nbformat_minor": 5
}
