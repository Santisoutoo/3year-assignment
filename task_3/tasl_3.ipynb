{
 "cells": [
  {
   "cell_type": "markdown",
   "id": "f104bbe6",
   "metadata": {},
   "source": [
    "# Task III: Implementing GANs and Diffusion Model for Handwritten Character Generation using EMNIST Dataset\n",
    "\n",
    "\n",
    "<p align=\"center\">\n",
    "  Santiago Souto Ortega, \n",
    "  Víctor Vega Sobral\n",
    "</p>\n"
   ]
  },
  {
   "cell_type": "markdown",
   "id": "87677904",
   "metadata": {},
   "source": [
    "![Instructions](instructions.png)"
   ]
  }
 ],
 "metadata": {
  "kernelspec": {
   "display_name": "f1_strat_manager",
   "language": "python",
   "name": "python3"
  },
  "language_info": {
   "codemirror_mode": {
    "name": "ipython",
    "version": 3
   },
   "file_extension": ".py",
   "mimetype": "text/x-python",
   "name": "python",
   "nbconvert_exporter": "python",
   "pygments_lexer": "ipython3",
   "version": "3.10.16"
  }
 },
 "nbformat": 4,
 "nbformat_minor": 5
}
